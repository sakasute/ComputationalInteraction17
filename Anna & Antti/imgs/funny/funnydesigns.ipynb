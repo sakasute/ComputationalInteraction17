{
 "cells": [
  {
   "cell_type": "markdown",
   "metadata": {},
   "source": [
    "<img src=\"1.jpg\"></img>\n",
    "<br>\n",
    "<img src=\"2.jpg\"></img>\n",
    "<br>\n",
    "<img src=\"3.jpg\"></img>\n",
    "<br>\n",
    "<img src=\"4.jpg\"></img>\n",
    "<br>\n",
    "<img src=\"5.jpg\"></img>\n",
    "<br>\n",
    "<img src=\"6.jpg\"></img>\n",
    "<br>\n",
    "<img src=\"7.png\"></img>\n",
    "<br>\n",
    "<img src=\"8.png\"></img>\n",
    "<br>"
   ]
  }
 ],
 "metadata": {
  "anaconda-cloud": {},
  "kernelspec": {
   "display_name": "Python 2",
   "language": "python",
   "name": "python2"
  },
  "language_info": {
   "codemirror_mode": {
    "name": "ipython",
    "version": 2
   },
   "file_extension": ".py",
   "mimetype": "text/x-python",
   "name": "python",
   "nbconvert_exporter": "python",
   "pygments_lexer": "ipython2",
   "version": "2.7.14"
  }
 },
 "nbformat": 4,
 "nbformat_minor": 1
}
